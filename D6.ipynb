{
 "cells": [
  {
   "cell_type": "code",
   "execution_count": 1,
   "id": "a0025473",
   "metadata": {},
   "outputs": [],
   "source": [
    "import numpy as np\n",
    "import pandas as pd\n",
    "import matplotlib.pyplot as plt\n",
    "from scipy import stats\n",
    "from sklearn.decomposition import PCA"
   ]
  },
  {
   "cell_type": "code",
   "execution_count": 2,
   "id": "1afc853b",
   "metadata": {},
   "outputs": [],
   "source": [
    "data = pd.read_csv('movieReplicationSet.csv')"
   ]
  },
  {
   "cell_type": "markdown",
   "id": "f3843a1f",
   "metadata": {},
   "source": [
    "# Sensation Seeking Characteristic"
   ]
  },
  {
   "cell_type": "code",
   "execution_count": 29,
   "id": "3371f7f8",
   "metadata": {},
   "outputs": [
    {
     "data": {
      "text/html": [
       "<div>\n",
       "<style scoped>\n",
       "    .dataframe tbody tr th:only-of-type {\n",
       "        vertical-align: middle;\n",
       "    }\n",
       "\n",
       "    .dataframe tbody tr th {\n",
       "        vertical-align: top;\n",
       "    }\n",
       "\n",
       "    .dataframe thead th {\n",
       "        text-align: right;\n",
       "    }\n",
       "</style>\n",
       "<table border=\"1\" class=\"dataframe\">\n",
       "  <thead>\n",
       "    <tr style=\"text-align: right;\">\n",
       "      <th></th>\n",
       "      <th>I enjoy driving fast</th>\n",
       "      <th>I enjoy rollercoasters</th>\n",
       "      <th>Have you ever bungee-jumped?</th>\n",
       "      <th>I enjoy impulse shopping</th>\n",
       "      <th>I sometimes go out on weeknights even if I have work to do</th>\n",
       "      <th>I enjoy doing things without too much planning</th>\n",
       "      <th>Have you ever been rock climbing?</th>\n",
       "      <th>I enjoy being in large, loud crowds like the Times Square Ball Drop on New Years Eve</th>\n",
       "      <th>I enjoy going to large music or dance festivals</th>\n",
       "      <th>I enjoy watching horror movies</th>\n",
       "      <th>No risk, No fun</th>\n",
       "      <th>I like to be surprised, even if it startles or scares me</th>\n",
       "      <th>Have you ever parachuted?</th>\n",
       "      <th>I enjoy haunted houses</th>\n",
       "      <th>I had a sheltered upbringing</th>\n",
       "      <th>My life is very stressful</th>\n",
       "      <th>I value my life to be well ordered and predictable</th>\n",
       "      <th>Have you ridden a motorcycle?</th>\n",
       "      <th>Have you gambled or bet for money?</th>\n",
       "      <th>Have you ever been sky-diving?</th>\n",
       "    </tr>\n",
       "  </thead>\n",
       "  <tbody>\n",
       "    <tr>\n",
       "      <th>0</th>\n",
       "      <td>5.0</td>\n",
       "      <td>5.0</td>\n",
       "      <td>2.0</td>\n",
       "      <td>5.0</td>\n",
       "      <td>1.0</td>\n",
       "      <td>2.0</td>\n",
       "      <td>3.0</td>\n",
       "      <td>1.0</td>\n",
       "      <td>4.0</td>\n",
       "      <td>1.0</td>\n",
       "      <td>3.0</td>\n",
       "      <td>5.0</td>\n",
       "      <td>1.0</td>\n",
       "      <td>1.0</td>\n",
       "      <td>1.0</td>\n",
       "      <td>2.0</td>\n",
       "      <td>3.0</td>\n",
       "      <td>2.0</td>\n",
       "      <td>2.0</td>\n",
       "      <td>1.0</td>\n",
       "    </tr>\n",
       "    <tr>\n",
       "      <th>1</th>\n",
       "      <td>4.0</td>\n",
       "      <td>5.0</td>\n",
       "      <td>2.0</td>\n",
       "      <td>4.0</td>\n",
       "      <td>2.0</td>\n",
       "      <td>1.0</td>\n",
       "      <td>1.0</td>\n",
       "      <td>2.0</td>\n",
       "      <td>4.0</td>\n",
       "      <td>1.0</td>\n",
       "      <td>3.0</td>\n",
       "      <td>4.0</td>\n",
       "      <td>1.0</td>\n",
       "      <td>1.0</td>\n",
       "      <td>4.0</td>\n",
       "      <td>3.0</td>\n",
       "      <td>3.0</td>\n",
       "      <td>4.0</td>\n",
       "      <td>1.0</td>\n",
       "      <td>1.0</td>\n",
       "    </tr>\n",
       "    <tr>\n",
       "      <th>2</th>\n",
       "      <td>4.0</td>\n",
       "      <td>4.0</td>\n",
       "      <td>1.0</td>\n",
       "      <td>2.0</td>\n",
       "      <td>2.0</td>\n",
       "      <td>2.0</td>\n",
       "      <td>1.0</td>\n",
       "      <td>3.0</td>\n",
       "      <td>4.0</td>\n",
       "      <td>1.0</td>\n",
       "      <td>3.0</td>\n",
       "      <td>1.0</td>\n",
       "      <td>2.0</td>\n",
       "      <td>1.0</td>\n",
       "      <td>3.0</td>\n",
       "      <td>4.0</td>\n",
       "      <td>4.0</td>\n",
       "      <td>2.0</td>\n",
       "      <td>1.0</td>\n",
       "      <td>2.0</td>\n",
       "    </tr>\n",
       "    <tr>\n",
       "      <th>3</th>\n",
       "      <td>5.0</td>\n",
       "      <td>5.0</td>\n",
       "      <td>2.0</td>\n",
       "      <td>5.0</td>\n",
       "      <td>4.0</td>\n",
       "      <td>2.0</td>\n",
       "      <td>4.0</td>\n",
       "      <td>4.0</td>\n",
       "      <td>5.0</td>\n",
       "      <td>4.0</td>\n",
       "      <td>1.0</td>\n",
       "      <td>4.0</td>\n",
       "      <td>1.0</td>\n",
       "      <td>4.0</td>\n",
       "      <td>4.0</td>\n",
       "      <td>3.0</td>\n",
       "      <td>4.0</td>\n",
       "      <td>1.0</td>\n",
       "      <td>1.0</td>\n",
       "      <td>1.0</td>\n",
       "    </tr>\n",
       "    <tr>\n",
       "      <th>4</th>\n",
       "      <td>4.0</td>\n",
       "      <td>1.0</td>\n",
       "      <td>3.0</td>\n",
       "      <td>3.0</td>\n",
       "      <td>2.0</td>\n",
       "      <td>3.0</td>\n",
       "      <td>3.0</td>\n",
       "      <td>1.0</td>\n",
       "      <td>3.0</td>\n",
       "      <td>1.0</td>\n",
       "      <td>4.0</td>\n",
       "      <td>4.0</td>\n",
       "      <td>1.0</td>\n",
       "      <td>2.0</td>\n",
       "      <td>3.0</td>\n",
       "      <td>3.0</td>\n",
       "      <td>1.0</td>\n",
       "      <td>1.0</td>\n",
       "      <td>4.0</td>\n",
       "      <td>3.0</td>\n",
       "    </tr>\n",
       "    <tr>\n",
       "      <th>...</th>\n",
       "      <td>...</td>\n",
       "      <td>...</td>\n",
       "      <td>...</td>\n",
       "      <td>...</td>\n",
       "      <td>...</td>\n",
       "      <td>...</td>\n",
       "      <td>...</td>\n",
       "      <td>...</td>\n",
       "      <td>...</td>\n",
       "      <td>...</td>\n",
       "      <td>...</td>\n",
       "      <td>...</td>\n",
       "      <td>...</td>\n",
       "      <td>...</td>\n",
       "      <td>...</td>\n",
       "      <td>...</td>\n",
       "      <td>...</td>\n",
       "      <td>...</td>\n",
       "      <td>...</td>\n",
       "      <td>...</td>\n",
       "    </tr>\n",
       "    <tr>\n",
       "      <th>1092</th>\n",
       "      <td>2.0</td>\n",
       "      <td>4.0</td>\n",
       "      <td>2.0</td>\n",
       "      <td>5.0</td>\n",
       "      <td>2.0</td>\n",
       "      <td>1.0</td>\n",
       "      <td>3.0</td>\n",
       "      <td>2.0</td>\n",
       "      <td>5.0</td>\n",
       "      <td>1.0</td>\n",
       "      <td>3.0</td>\n",
       "      <td>3.0</td>\n",
       "      <td>2.0</td>\n",
       "      <td>1.0</td>\n",
       "      <td>4.0</td>\n",
       "      <td>4.0</td>\n",
       "      <td>4.0</td>\n",
       "      <td>1.0</td>\n",
       "      <td>1.0</td>\n",
       "      <td>2.0</td>\n",
       "    </tr>\n",
       "    <tr>\n",
       "      <th>1093</th>\n",
       "      <td>3.0</td>\n",
       "      <td>5.0</td>\n",
       "      <td>2.0</td>\n",
       "      <td>5.0</td>\n",
       "      <td>4.0</td>\n",
       "      <td>1.0</td>\n",
       "      <td>4.0</td>\n",
       "      <td>4.0</td>\n",
       "      <td>5.0</td>\n",
       "      <td>5.0</td>\n",
       "      <td>4.0</td>\n",
       "      <td>5.0</td>\n",
       "      <td>2.0</td>\n",
       "      <td>1.0</td>\n",
       "      <td>5.0</td>\n",
       "      <td>4.0</td>\n",
       "      <td>5.0</td>\n",
       "      <td>3.0</td>\n",
       "      <td>1.0</td>\n",
       "      <td>2.0</td>\n",
       "    </tr>\n",
       "    <tr>\n",
       "      <th>1094</th>\n",
       "      <td>4.0</td>\n",
       "      <td>5.0</td>\n",
       "      <td>2.0</td>\n",
       "      <td>2.0</td>\n",
       "      <td>3.0</td>\n",
       "      <td>1.0</td>\n",
       "      <td>4.0</td>\n",
       "      <td>1.0</td>\n",
       "      <td>4.0</td>\n",
       "      <td>1.0</td>\n",
       "      <td>2.0</td>\n",
       "      <td>2.0</td>\n",
       "      <td>2.0</td>\n",
       "      <td>1.0</td>\n",
       "      <td>4.0</td>\n",
       "      <td>4.0</td>\n",
       "      <td>5.0</td>\n",
       "      <td>2.0</td>\n",
       "      <td>3.0</td>\n",
       "      <td>2.0</td>\n",
       "    </tr>\n",
       "    <tr>\n",
       "      <th>1095</th>\n",
       "      <td>3.0</td>\n",
       "      <td>4.0</td>\n",
       "      <td>2.0</td>\n",
       "      <td>5.0</td>\n",
       "      <td>2.0</td>\n",
       "      <td>5.0</td>\n",
       "      <td>1.0</td>\n",
       "      <td>2.0</td>\n",
       "      <td>1.0</td>\n",
       "      <td>2.0</td>\n",
       "      <td>2.0</td>\n",
       "      <td>3.0</td>\n",
       "      <td>1.0</td>\n",
       "      <td>1.0</td>\n",
       "      <td>4.0</td>\n",
       "      <td>4.0</td>\n",
       "      <td>3.0</td>\n",
       "      <td>1.0</td>\n",
       "      <td>4.0</td>\n",
       "      <td>1.0</td>\n",
       "    </tr>\n",
       "    <tr>\n",
       "      <th>1096</th>\n",
       "      <td>5.0</td>\n",
       "      <td>5.0</td>\n",
       "      <td>1.0</td>\n",
       "      <td>5.0</td>\n",
       "      <td>4.0</td>\n",
       "      <td>2.0</td>\n",
       "      <td>4.0</td>\n",
       "      <td>2.0</td>\n",
       "      <td>5.0</td>\n",
       "      <td>2.0</td>\n",
       "      <td>1.0</td>\n",
       "      <td>2.0</td>\n",
       "      <td>1.0</td>\n",
       "      <td>1.0</td>\n",
       "      <td>4.0</td>\n",
       "      <td>5.0</td>\n",
       "      <td>3.0</td>\n",
       "      <td>2.0</td>\n",
       "      <td>3.0</td>\n",
       "      <td>1.0</td>\n",
       "    </tr>\n",
       "  </tbody>\n",
       "</table>\n",
       "<p>1074 rows × 20 columns</p>\n",
       "</div>"
      ],
      "text/plain": [
       "      I enjoy driving fast  I enjoy rollercoasters   \\\n",
       "0                      5.0                      5.0   \n",
       "1                      4.0                      5.0   \n",
       "2                      4.0                      4.0   \n",
       "3                      5.0                      5.0   \n",
       "4                      4.0                      1.0   \n",
       "...                    ...                      ...   \n",
       "1092                   2.0                      4.0   \n",
       "1093                   3.0                      5.0   \n",
       "1094                   4.0                      5.0   \n",
       "1095                   3.0                      4.0   \n",
       "1096                   5.0                      5.0   \n",
       "\n",
       "      Have you ever bungee-jumped?  I enjoy impulse shopping  \\\n",
       "0                              2.0                       5.0   \n",
       "1                              2.0                       4.0   \n",
       "2                              1.0                       2.0   \n",
       "3                              2.0                       5.0   \n",
       "4                              3.0                       3.0   \n",
       "...                            ...                       ...   \n",
       "1092                           2.0                       5.0   \n",
       "1093                           2.0                       5.0   \n",
       "1094                           2.0                       2.0   \n",
       "1095                           2.0                       5.0   \n",
       "1096                           1.0                       5.0   \n",
       "\n",
       "      I sometimes go out on weeknights even if I have work to do  \\\n",
       "0                                                   1.0            \n",
       "1                                                   2.0            \n",
       "2                                                   2.0            \n",
       "3                                                   4.0            \n",
       "4                                                   2.0            \n",
       "...                                                 ...            \n",
       "1092                                                2.0            \n",
       "1093                                                4.0            \n",
       "1094                                                3.0            \n",
       "1095                                                2.0            \n",
       "1096                                                4.0            \n",
       "\n",
       "      I enjoy doing things without too much planning   \\\n",
       "0                                                 2.0   \n",
       "1                                                 1.0   \n",
       "2                                                 2.0   \n",
       "3                                                 2.0   \n",
       "4                                                 3.0   \n",
       "...                                               ...   \n",
       "1092                                              1.0   \n",
       "1093                                              1.0   \n",
       "1094                                              1.0   \n",
       "1095                                              5.0   \n",
       "1096                                              2.0   \n",
       "\n",
       "      Have you ever been rock climbing?  \\\n",
       "0                                   3.0   \n",
       "1                                   1.0   \n",
       "2                                   1.0   \n",
       "3                                   4.0   \n",
       "4                                   3.0   \n",
       "...                                 ...   \n",
       "1092                                3.0   \n",
       "1093                                4.0   \n",
       "1094                                4.0   \n",
       "1095                                1.0   \n",
       "1096                                4.0   \n",
       "\n",
       "      I enjoy being in large, loud crowds like the Times Square Ball Drop on New Years Eve  \\\n",
       "0                                                   1.0                                      \n",
       "1                                                   2.0                                      \n",
       "2                                                   3.0                                      \n",
       "3                                                   4.0                                      \n",
       "4                                                   1.0                                      \n",
       "...                                                 ...                                      \n",
       "1092                                                2.0                                      \n",
       "1093                                                4.0                                      \n",
       "1094                                                1.0                                      \n",
       "1095                                                2.0                                      \n",
       "1096                                                2.0                                      \n",
       "\n",
       "      I enjoy going to large music or dance festivals   \\\n",
       "0                                                  4.0   \n",
       "1                                                  4.0   \n",
       "2                                                  4.0   \n",
       "3                                                  5.0   \n",
       "4                                                  3.0   \n",
       "...                                                ...   \n",
       "1092                                               5.0   \n",
       "1093                                               5.0   \n",
       "1094                                               4.0   \n",
       "1095                                               1.0   \n",
       "1096                                               5.0   \n",
       "\n",
       "      I enjoy watching horror movies  No risk, No fun  \\\n",
       "0                                1.0              3.0   \n",
       "1                                1.0              3.0   \n",
       "2                                1.0              3.0   \n",
       "3                                4.0              1.0   \n",
       "4                                1.0              4.0   \n",
       "...                              ...              ...   \n",
       "1092                             1.0              3.0   \n",
       "1093                             5.0              4.0   \n",
       "1094                             1.0              2.0   \n",
       "1095                             2.0              2.0   \n",
       "1096                             2.0              1.0   \n",
       "\n",
       "      I like to be surprised, even if it startles or scares me  \\\n",
       "0                                                   5.0          \n",
       "1                                                   4.0          \n",
       "2                                                   1.0          \n",
       "3                                                   4.0          \n",
       "4                                                   4.0          \n",
       "...                                                 ...          \n",
       "1092                                                3.0          \n",
       "1093                                                5.0          \n",
       "1094                                                2.0          \n",
       "1095                                                3.0          \n",
       "1096                                                2.0          \n",
       "\n",
       "      Have you ever parachuted?  I enjoy haunted houses  \\\n",
       "0                           1.0                     1.0   \n",
       "1                           1.0                     1.0   \n",
       "2                           2.0                     1.0   \n",
       "3                           1.0                     4.0   \n",
       "4                           1.0                     2.0   \n",
       "...                         ...                     ...   \n",
       "1092                        2.0                     1.0   \n",
       "1093                        2.0                     1.0   \n",
       "1094                        2.0                     1.0   \n",
       "1095                        1.0                     1.0   \n",
       "1096                        1.0                     1.0   \n",
       "\n",
       "      I had a sheltered upbringing  My life is very stressful  \\\n",
       "0                              1.0                        2.0   \n",
       "1                              4.0                        3.0   \n",
       "2                              3.0                        4.0   \n",
       "3                              4.0                        3.0   \n",
       "4                              3.0                        3.0   \n",
       "...                            ...                        ...   \n",
       "1092                           4.0                        4.0   \n",
       "1093                           5.0                        4.0   \n",
       "1094                           4.0                        4.0   \n",
       "1095                           4.0                        4.0   \n",
       "1096                           4.0                        5.0   \n",
       "\n",
       "      I value my life to be well ordered and predictable  \\\n",
       "0                                                   3.0    \n",
       "1                                                   3.0    \n",
       "2                                                   4.0    \n",
       "3                                                   4.0    \n",
       "4                                                   1.0    \n",
       "...                                                 ...    \n",
       "1092                                                4.0    \n",
       "1093                                                5.0    \n",
       "1094                                                5.0    \n",
       "1095                                                3.0    \n",
       "1096                                                3.0    \n",
       "\n",
       "      Have you ridden a motorcycle?  Have you gambled or bet for money?  \\\n",
       "0                               2.0                                 2.0   \n",
       "1                               4.0                                 1.0   \n",
       "2                               2.0                                 1.0   \n",
       "3                               1.0                                 1.0   \n",
       "4                               1.0                                 4.0   \n",
       "...                             ...                                 ...   \n",
       "1092                            1.0                                 1.0   \n",
       "1093                            3.0                                 1.0   \n",
       "1094                            2.0                                 3.0   \n",
       "1095                            1.0                                 4.0   \n",
       "1096                            2.0                                 3.0   \n",
       "\n",
       "      Have you ever been sky-diving?  \n",
       "0                                1.0  \n",
       "1                                1.0  \n",
       "2                                2.0  \n",
       "3                                1.0  \n",
       "4                                3.0  \n",
       "...                              ...  \n",
       "1092                             2.0  \n",
       "1093                             2.0  \n",
       "1094                             2.0  \n",
       "1095                             1.0  \n",
       "1096                             1.0  \n",
       "\n",
       "[1074 rows x 20 columns]"
      ]
     },
     "execution_count": 29,
     "metadata": {},
     "output_type": "execute_result"
    }
   ],
   "source": [
    "sensation_seeking = data.iloc[:,400:420].dropna(axis=0)\n",
    "sensation_seeking_labels = sensation_seeking.columns\n",
    "sensation_seeking_values = sensation_seeking.values\n",
    "ssi = sensation_seeking.index\n",
    "sensation_seeking"
   ]
  },
  {
   "cell_type": "code",
   "execution_count": 30,
   "id": "d7d3b7dd",
   "metadata": {
    "scrolled": true
   },
   "outputs": [
    {
     "data": {
      "text/plain": [
       "<function matplotlib.pyplot.show(close=None, block=None)>"
      ]
     },
     "execution_count": 30,
     "metadata": {},
     "output_type": "execute_result"
    },
    {
     "data": {
      "image/png": "[encoded data removed]",
      "text/plain": [
       "<Figure size 432x288 with 2 Axes>"
      ]
     },
     "metadata": {
      "needs_background": "light"
     },
     "output_type": "display_data"
    }
   ],
   "source": [
    "plt.imshow(sensation_seeking)\n",
    "plt.xlabel('Question')\n",
    "plt.ylabel('Person')\n",
    "plt.colorbar()\n",
    "plt.show"
   ]
  },
  {
   "cell_type": "code",
   "execution_count": 31,
   "id": "864e4f7f",
   "metadata": {},
   "outputs": [
    {
     "data": {
      "image/png": "[encoded data removed]",
      "text/plain": [
       "<Figure size 432x288 with 2 Axes>"
      ]
     },
     "metadata": {
      "needs_background": "light"
     },
     "output_type": "display_data"
    }
   ],
   "source": [
    "corr_matrix = sensation_seeking.corr()\n",
    "\n",
    "plt.imshow(corr_matrix)\n",
    "plt.xlabel('Question')\n",
    "plt.ylabel('Question')\n",
    "plt.colorbar()\n",
    "plt.show()"
   ]
  },
  {
   "cell_type": "code",
   "execution_count": 1,
   "id": "1be6ac91",
   "metadata": {
    "scrolled": true
   },
   "outputs": [
    {
     "ename": "NameError",
     "evalue": "name 'stats' is not defined",
     "output_type": "error",
     "traceback": [
      "\u001b[1;31m---------------------------------------------------------------------------\u001b[0m",
      "\u001b[1;31mNameError\u001b[0m                                 Traceback (most recent call last)",
      "Input \u001b[1;32mIn [1]\u001b[0m, in \u001b[0;36m<cell line: 1>\u001b[1;34m()\u001b[0m\n\u001b[1;32m----> 1\u001b[0m z_scored \u001b[38;5;241m=\u001b[39m \u001b[43mstats\u001b[49m\u001b[38;5;241m.\u001b[39mzscore(sensation_seeking)\n\u001b[0;32m      2\u001b[0m pca \u001b[38;5;241m=\u001b[39m PCA()\u001b[38;5;241m.\u001b[39mfit(z_scored)\n\u001b[0;32m      4\u001b[0m eig_vals \u001b[38;5;241m=\u001b[39m pca\u001b[38;5;241m.\u001b[39mexplained_variance_ \u001b[38;5;66;03m# Eigenvalues of the vectors themselves, representative of the scalars multiplied by the orthonormal basis vectors\u001b[39;00m\n",
      "\u001b[1;31mNameError\u001b[0m: name 'stats' is not defined"
     ]
    }
   ],
   "source": [
    "z_scored = stats.zscore(sensation_seeking)\n",
    "pca = PCA().fit(z_scored)\n",
    "\n",
    "eig_vals = pca.explained_variance_ # Eigenvalues of the vectors themselves, representative of the scalars multiplied by the orthonormal basis vectors\n",
    "loadings = pca.components_ # Principal axes in feature space (how much each PC is affected by each feature), dimensions representing maximum variance of the data.\n",
    "# Loadings is effectively in which direction the eigenvectors points in terms of the original variables\n",
    "rotated_data = pca.fit_transform(z_scored) # Stored data rotated, scaled, and rotated again. Use this for training/fitting the actual data\n",
    "\n",
    "covar_explained = eig_vals / sum(eig_vals) * 100\n",
    "\n",
    "for entry in covar_explained:\n",
    "    print(entry.round(3))"
   ]
  },
  {
   "cell_type": "code",
   "execution_count": 33,
   "id": "ea9d3039",
   "metadata": {},
   "outputs": [
    {
     "data": {
      "image/png": "[encoded data removed]",
      "text/plain": [
       "<Figure size 432x288 with 1 Axes>"
      ]
     },
     "metadata": {
      "needs_background": "light"
     },
     "output_type": "display_data"
    }
   ],
   "source": [
    "num_quest = len(sensation_seeking.columns)\n",
    "x = np.linspace(1,num_quest, num_quest)\n",
    "plt.bar(x, eig_vals, color='gray')\n",
    "plt.plot([0,num_quest], [1,1], color='orange')\n",
    "plt.xlabel('Principal Component')\n",
    "plt.ylabel('Eigenvalue')\n",
    "plt.show()"
   ]
  },
  {
   "cell_type": "code",
   "execution_count": 34,
   "id": "d90306f7",
   "metadata": {},
   "outputs": [
    {
     "name": "stdout",
     "output_type": "stream",
     "text": [
      "Number of factors selected by Kaiser criterion: 6\n",
      "Number of factors selected by elbow criterion: 1\n",
      "Number of factors to account for at least 90% variance: 16\n"
     ]
    }
   ],
   "source": [
    "threshold = 1\n",
    "print('Number of factors selected by Kaiser criterion:', np.count_nonzero(eig_vals > threshold))\n",
    "\n",
    "print('Number of factors selected by elbow criterion: 1')\n",
    "\n",
    "threshold = 90\n",
    "eig_sum = np.cumsum(covar_explained)\n",
    "print('Number of factors to account for at least 90% variance:', np.count_nonzero(eig_sum < threshold) + 1)"
   ]
  },
  {
   "cell_type": "code",
   "execution_count": 35,
   "id": "cf5b1d97",
   "metadata": {},
   "outputs": [
    {
     "data": {
      "image/png": "[encoded data removed]",
      "text/plain": [
       "<Figure size 432x288 with 1 Axes>"
      ]
     },
     "metadata": {
      "needs_background": "light"
     },
     "output_type": "display_data"
    },
    {
     "name": "stdout",
     "output_type": "stream",
     "text": [
      "Principal component 1: I enjoy driving fast\n",
      "Principal component 2: I enjoy rollercoasters \n",
      "Principal component 3: Have you ever bungee-jumped?\n",
      "Principal component 4: I enjoy impulse shopping\n",
      "Principal component 5: I sometimes go out on weeknights even if I have work to do\n",
      "Principal component 6: I enjoy doing things without too much planning \n",
      "Principal component 7: Have you ever been rock climbing?\n",
      "Principal component 8: I enjoy being in large, loud crowds like the Times Square Ball Drop on New Years Eve\n",
      "Principal component 9: I enjoy going to large music or dance festivals \n",
      "Principal component 10: I enjoy watching horror movies\n",
      "Principal component 11: No risk, No fun\n",
      "Principal component 12: I like to be surprised, even if it startles or scares me\n",
      "Principal component 13: Have you ever parachuted?\n",
      "Principal component 14: I enjoy haunted houses\n",
      "Principal component 15: I had a sheltered upbringing\n",
      "Principal component 16: My life is very stressful\n",
      "Principal component 17: I value my life to be well ordered and predictable\n",
      "Principal component 18: Have you ridden a motorcycle?\n",
      "Principal component 19: Have you gambled or bet for money?\n",
      "Principal component 20: Have you ever been sky-diving?\n"
     ]
    }
   ],
   "source": [
    "PC = 0 # Which PC to take a look at\n",
    "plt.bar(x, loadings[PC,:] * -1)\n",
    "plt.xlabel('Question')\n",
    "plt.ylabel('Loading')\n",
    "plt.show()\n",
    "for index in range(len(sensation_seeking_labels)):\n",
    "    print(f'Principal component {index+1}: {sensation_seeking_labels[index]}')"
   ]
  },
  {
   "cell_type": "code",
   "execution_count": 36,
   "id": "9e9fabcf",
   "metadata": {
    "scrolled": true
   },
   "outputs": [
    {
     "data": {
      "image/png": "[encoded data removed]",
      "text/plain": [
       "<Figure size 432x288 with 1 Axes>"
      ]
     },
     "metadata": {
      "needs_background": "light"
     },
     "output_type": "display_data"
    }
   ],
   "source": [
    "plt.plot(rotated_data[:,0] * -1, rotated_data[:,1] * -1,'o',markersize=5)\n",
    "plt.xlabel('Principal Component 1')\n",
    "plt.ylabel('Principal Component 2')\n",
    "plt.show()"
   ]
  },
  {
   "cell_type": "markdown",
   "id": "51034f63",
   "metadata": {},
   "source": [
    "# Personality Characteristic"
   ]
  },
  {
   "cell_type": "code",
   "execution_count": 11,
   "id": "dcf6b07d",
   "metadata": {},
   "outputs": [
    {
     "data": {
      "text/plain": [
       "(1000, 44)"
      ]
     },
     "execution_count": 11,
     "metadata": {},
     "output_type": "execute_result"
    }
   ],
   "source": [
    "personality = data.iloc[:,420:464].dropna(axis=0)\n",
    "personality_labels = personality.columns\n",
    "personality_values = personality.values\n",
    "personality.shape"
   ]
  },
  {
   "cell_type": "code",
   "execution_count": 12,
   "id": "eb6507f3",
   "metadata": {},
   "outputs": [
    {
     "data": {
      "text/plain": [
       "<function matplotlib.pyplot.show(close=None, block=None)>"
      ]
     },
     "execution_count": 12,
     "metadata": {},
     "output_type": "execute_result"
    },
    {
     "data": {
      "image/png": "[encoded data removed]",
      "text/plain": [
       "<Figure size 432x288 with 2 Axes>"
      ]
     },
     "metadata": {
      "needs_background": "light"
     },
     "output_type": "display_data"
    }
   ],
   "source": [
    "plt.imshow(personality)\n",
    "plt.xlabel('Question')\n",
    "plt.ylabel('Person')\n",
    "plt.colorbar()\n",
    "plt.show"
   ]
  },
  {
   "cell_type": "code",
   "execution_count": 13,
   "id": "65bc7e8c",
   "metadata": {},
   "outputs": [
    {
     "data": {
      "image/png": "[encoded data removed]",
      "text/plain": [
       "<Figure size 432x288 with 2 Axes>"
      ]
     },
     "metadata": {
      "needs_background": "light"
     },
     "output_type": "display_data"
    }
   ],
   "source": [
    "corr_matrix = personality.corr()\n",
    "\n",
    "plt.imshow(corr_matrix)\n",
    "plt.xlabel('Question')\n",
    "plt.ylabel('Question')\n",
    "plt.colorbar()\n",
    "plt.show()"
   ]
  },
  {
   "cell_type": "code",
   "execution_count": 14,
   "id": "cdba1d6d",
   "metadata": {},
   "outputs": [
    {
     "name": "stdout",
     "output_type": "stream",
     "text": [
      "15.066\n",
      "9.034\n",
      "8.056\n",
      "7.381\n",
      "5.646\n",
      "4.648\n",
      "2.447\n",
      "2.318\n",
      "2.086\n",
      "2.025\n",
      "1.99\n",
      "1.89\n",
      "1.82\n",
      "1.778\n",
      "1.706\n",
      "1.659\n",
      "1.594\n",
      "1.554\n",
      "1.505\n",
      "1.455\n",
      "1.412\n",
      "1.394\n",
      "1.336\n",
      "1.268\n",
      "1.252\n",
      "1.217\n",
      "1.175\n",
      "1.161\n",
      "1.09\n",
      "1.079\n",
      "1.051\n",
      "1.032\n",
      "1.006\n",
      "0.988\n",
      "0.94\n",
      "0.93\n",
      "0.908\n",
      "0.846\n",
      "0.818\n",
      "0.804\n",
      "0.75\n",
      "0.717\n",
      "0.639\n",
      "0.529\n"
     ]
    }
   ],
   "source": [
    "z_scored = stats.zscore(personality)\n",
    "\n",
    "pca = PCA().fit(z_scored)\n",
    "eig_vals = pca.explained_variance_\n",
    "loadings = pca.components_\n",
    "rotated_data = pca.fit_transform(z_scored)\n",
    "\n",
    "covar_explained = eig_vals / sum(eig_vals) * 100\n",
    "\n",
    "for entry in covar_explained:\n",
    "    print(entry.round(3))"
   ]
  },
  {
   "cell_type": "code",
   "execution_count": 15,
   "id": "de734fe5",
   "metadata": {},
   "outputs": [
    {
     "data": {
      "image/png": "[encoded data removed]",
      "text/plain": [
       "<Figure size 432x288 with 1 Axes>"
      ]
     },
     "metadata": {
      "needs_background": "light"
     },
     "output_type": "display_data"
    }
   ],
   "source": [
    "num_quest = len(personality.columns)\n",
    "x = np.linspace(1,num_quest, num_quest)\n",
    "plt.bar(x, eig_vals, color='gray')\n",
    "plt.plot([0,num_quest], [1,1], color='orange')\n",
    "plt.xlabel('Principal Component')\n",
    "plt.ylabel('Eigenvalue')\n",
    "plt.show()"
   ]
  },
  {
   "cell_type": "code",
   "execution_count": 16,
   "id": "69b594a0",
   "metadata": {},
   "outputs": [
    {
     "name": "stdout",
     "output_type": "stream",
     "text": [
      "Number of factors selected by Kaiser criterion: 8\n",
      "Number of factors selected by elbow criterion: 1\n",
      "Number of factors to account for at least 90% variance: 32\n"
     ]
    }
   ],
   "source": [
    "threshold = 1\n",
    "print('Number of factors selected by Kaiser criterion:', np.count_nonzero(eig_vals > threshold))\n",
    "\n",
    "print('Number of factors selected by elbow criterion: 1')\n",
    "\n",
    "threshold = 90\n",
    "eig_sum = np.cumsum(covar_explained)\n",
    "print('Number of factors to account for at least 90% variance:', np.count_nonzero(eig_sum < threshold) + 1)"
   ]
  },
  {
   "cell_type": "code",
   "execution_count": 17,
   "id": "830dd5f7",
   "metadata": {
    "scrolled": true
   },
   "outputs": [
    {
     "data": {
      "image/png": "[encoded data removed]",
      "text/plain": [
       "<Figure size 432x288 with 1 Axes>"
      ]
     },
     "metadata": {
      "needs_background": "light"
     },
     "output_type": "display_data"
    },
    {
     "name": "stdout",
     "output_type": "stream",
     "text": [
      "Principal component 1: Is talkative\n",
      "Principal component 2: Tends to find fault with others\n",
      "Principal component 3: Does a thorough job\n",
      "Principal component 4: Is depressed, Blue\n",
      "Principal component 5: Is original, comes up with new ideas\n",
      "Principal component 6: Is reserved\n",
      "Principal component 7: Is helpful and unselfish with others\n",
      "Principal component 8: Can be somewhat careless\n",
      "Principal component 9: Is relaxed, handles stress well\n",
      "Principal component 10: Is curious about many different things\n",
      "Principal component 11: Is full of energy\n",
      "Principal component 12: Starts quarrels with others\n",
      "Principal component 13: Is a reliable worker\n",
      "Principal component 14: Can be tense\n",
      "Principal component 15: Is ingenious, a deep thinker\n",
      "Principal component 16: Generates a lot of Enthusiasm\n",
      "Principal component 17: Has a forgiving nature\n",
      "Principal component 18: Tends to be disorganized\n",
      "Principal component 19: Worries a lot\n",
      "Principal component 20: Has an active imagination\n",
      "Principal component 21: Tends to be quiet\n",
      "Principal component 22: Is generally trusting\n",
      "Principal component 23: Tends to be lazy\n",
      "Principal component 24: Is emotionally stable, not easily upset\n",
      "Principal component 25: is inventive\n",
      "Principal component 26: Has an assertive personality\n",
      "Principal component 27: Can be cold and aloof\n",
      "Principal component 28: Perseveres until the task is finished\n",
      "Principal component 29: Can be moody\n",
      "Principal component 30: Values artistic, aesthetic experiences\n",
      "Principal component 31: Is sometimes shy, inhibited\n",
      "Principal component 32: Is considerate and kind to almost everyone\n",
      "Principal component 33: Does things efficiently\n",
      "Principal component 34: Remains calm in tense situations\n",
      "Principal component 35: Prefers work that is routine\n",
      "Principal component 36: is outgoing, sociable\n",
      "Principal component 37: Is sometimes rude to others\n",
      "Principal component 38: Makes plans and follows through with them\n",
      "Principal component 39: Gets nervous easily\n",
      "Principal component 40: Likes to reflect, play with ideas\n",
      "Principal component 41: Has few artistic interests\n",
      "Principal component 42: Likes to cooperate with others\n",
      "Principal component 43: Is easily distracted\n",
      "Principal component 44: Is sophisticated in art, music, or literature\n"
     ]
    }
   ],
   "source": [
    "PC = 0 # Which PC to take a look at\n",
    "plt.bar(x, loadings[PC,:] * -1)\n",
    "plt.xlabel('Question')\n",
    "plt.ylabel('Loading')\n",
    "plt.show()\n",
    "for index in range(len(personality_labels)):\n",
    "    print(f'Principal component {index+1}: {personality_labels[index]}')"
   ]
  },
  {
   "cell_type": "code",
   "execution_count": 18,
   "id": "9fbf30c3",
   "metadata": {},
   "outputs": [
    {
     "data": {
      "image/png": "[encoded data removed]",
      "text/plain": [
       "<Figure size 432x288 with 1 Axes>"
      ]
     },
     "metadata": {
      "needs_background": "light"
     },
     "output_type": "display_data"
    }
   ],
   "source": [
    "plt.plot(rotated_data[:,0] * -1, rotated_data[:,1] * -1,'o',markersize=5)\n",
    "plt.xlabel('Principal Component 1')\n",
    "plt.ylabel('Principal Component 2')\n",
    "plt.show()"
   ]
  },
  {
   "cell_type": "markdown",
   "id": "e5ff7660",
   "metadata": {},
   "source": [
    "# Logistic Regression Portion with PCA | PCA Portion"
   ]
  },
  {
   "cell_type": "code",
   "execution_count": 37,
   "id": "81856a1e",
   "metadata": {
    "scrolled": true
   },
   "outputs": [],
   "source": [
    "saw = pd.DataFrame(data['Saw (2004)']) # Create a new dataframe\n",
    "dropIndex = saw.drop(index=ssi).index # Gets indices of differences\n",
    "saw = saw.drop(dropIndex) # Drops indexes from saw"
   ]
  },
  {
   "cell_type": "code",
   "execution_count": 38,
   "id": "59416d78",
   "metadata": {},
   "outputs": [],
   "source": [
    "combined = pd.concat([saw, sensation_seeking], axis=1).reset_index().drop(['index'], axis=1)\n",
    "combinedIndex = combined.index"
   ]
  },
  {
   "cell_type": "code",
   "execution_count": 39,
   "id": "9ea6c17a",
   "metadata": {},
   "outputs": [],
   "source": [
    "combined.loc[(combined['Saw (2004)'] < 2.5), 'Saw (2004)'] = 0 # Order for this matters\n",
    "combined.loc[(combined['Saw (2004)'] > 2.5), 'Saw (2004)'] = 1\n",
    "\n",
    "combined = combined.where(combined['Saw (2004)'] != 2.5).dropna()\n",
    "combIndex = combined.index\n",
    "\n",
    "sawFinal = combined[['Saw (2004)']]\n",
    "charFinal = combined.drop('Saw (2004)', axis=1)"
   ]
  },
  {
   "cell_type": "markdown",
   "id": "cdf435fa",
   "metadata": {},
   "source": [
    "# Logistic Regression Portion with PCA | Regression Portion"
   ]
  },
  {
   "cell_type": "code",
   "execution_count": 41,
   "id": "a461251d",
   "metadata": {
    "scrolled": true
   },
   "outputs": [
    {
     "data": {
      "image/png": "[encoded data removed]",
      "text/plain": [
       "<Figure size 432x288 with 1 Axes>"
      ]
     },
     "metadata": {
      "needs_background": "light"
     },
     "output_type": "display_data"
    }
   ],
   "source": [
    "X = (rotated_data[combIndex,0] * -1).flatten()\n",
    "y = sawFinal\n",
    "\n",
    "# Plot data:\n",
    "import matplotlib.pyplot as plt\n",
    "plt.scatter(X, y,color='black')\n",
    "plt.xlabel('Sensation Seeking Characteristic')\n",
    "plt.xlim([-7,7])\n",
    "plt.ylabel('Liked/Disliked Movie (vs. Median)')\n",
    "plt.yticks(np.array([0,1]))\n",
    "plt.show()"
   ]
  },
  {
   "cell_type": "code",
   "execution_count": 42,
   "id": "5473c079",
   "metadata": {},
   "outputs": [
    {
     "name": "stderr",
     "output_type": "stream",
     "text": [
      "C:\\Users\\sunny\\anaconda3\\lib\\site-packages\\sklearn\\utils\\validation.py:985: DataConversionWarning: A column-vector y was passed when a 1d array was expected. Please change the shape of y to (n_samples, ), for example using ravel().\n",
      "  y = column_or_1d(y, warn=True)\n"
     ]
    }
   ],
   "source": [
    "from sklearn.linear_model import LogisticRegression\n",
    "\n",
    "# Format data:\n",
    "X = (rotated_data[combIndex,0] * -1).reshape(-1, 1)\n",
    "y = np.array(sawFinal).reshape(-1,1)\n",
    "\n",
    "model = LogisticRegression().fit(X,y)"
   ]
  },
  {
   "cell_type": "code",
   "execution_count": 43,
   "id": "0a16f3da",
   "metadata": {},
   "outputs": [
    {
     "data": {
      "image/png": "[encoded data removed]",
      "text/plain": [
       "<Figure size 432x288 with 1 Axes>"
      ]
     },
     "metadata": {
      "needs_background": "light"
     },
     "output_type": "display_data"
    }
   ],
   "source": [
    "# Plot the data\n",
    "\n",
    "# Init data:\n",
    "from scipy.special import expit # this is the logistic sigmoid function\n",
    "x1 = np.linspace(-12, 12, 500)\n",
    "y1 = x1 * model.coef_ + model.intercept_\n",
    "sigmoid = expit(y1)\n",
    "\n",
    "# Plot:\n",
    "plt.plot(x1,sigmoid.ravel(),color='red',linewidth=3) # the ravel function returns a flattened array\n",
    "plt.scatter(X, y,color='black')\n",
    "plt.hlines(0.5,260,345,colors='gray',linestyles='dotted')\n",
    "plt.xlabel('Principal Component 1')\n",
    "plt.xlim([-15,15])\n",
    "plt.ylabel('Liked/Disliked Movie (vs. Median)')\n",
    "plt.yticks(np.array([0,1]))\n",
    "plt.show()"
   ]
  },
  {
   "cell_type": "code",
   "execution_count": 44,
   "id": "35a53ef8",
   "metadata": {
    "scrolled": true
   },
   "outputs": [
    {
     "data": {
      "text/plain": [
       "array([[-0.17323103]])"
      ]
     },
     "execution_count": 44,
     "metadata": {},
     "output_type": "execute_result"
    }
   ],
   "source": [
    "model.coef_"
   ]
  },
  {
   "cell_type": "code",
   "execution_count": 45,
   "id": "be0e37e9",
   "metadata": {},
   "outputs": [
    {
     "data": {
      "text/html": [
       "<table class=\"simpletable\">\n",
       "<caption>Generalized Linear Model Regression Results</caption>\n",
       "<tr>\n",
       "  <th>Dep. Variable:</th>           <td>y</td>        <th>  No. Observations:  </th>  <td>   305</td> \n",
       "</tr>\n",
       "<tr>\n",
       "  <th>Model:</th>                  <td>GLM</td>       <th>  Df Residuals:      </th>  <td>   303</td> \n",
       "</tr>\n",
       "<tr>\n",
       "  <th>Model Family:</th>        <td>Binomial</td>     <th>  Df Model:          </th>  <td>     1</td> \n",
       "</tr>\n",
       "<tr>\n",
       "  <th>Link Function:</th>         <td>Logit</td>      <th>  Scale:             </th> <td>  1.0000</td>\n",
       "</tr>\n",
       "<tr>\n",
       "  <th>Method:</th>                <td>IRLS</td>       <th>  Log-Likelihood:    </th> <td> -207.52</td>\n",
       "</tr>\n",
       "<tr>\n",
       "  <th>Date:</th>            <td>Fri, 10 Dec 2021</td> <th>  Deviance:          </th> <td>  415.04</td>\n",
       "</tr>\n",
       "<tr>\n",
       "  <th>Time:</th>                <td>09:19:17</td>     <th>  Pearson chi2:      </th>  <td>  305.</td> \n",
       "</tr>\n",
       "<tr>\n",
       "  <th>No. Iterations:</th>          <td>4</td>        <th>  Pseudo R-squ. (CS):</th>  <td>0.02518</td>\n",
       "</tr>\n",
       "<tr>\n",
       "  <th>Covariance Type:</th>     <td>nonrobust</td>    <th>                     </th>     <td> </td>   \n",
       "</tr>\n",
       "</table>\n",
       "<table class=\"simpletable\">\n",
       "<tr>\n",
       "    <td></td>       <th>coef</th>     <th>std err</th>      <th>z</th>      <th>P>|z|</th>  <th>[0.025</th>    <th>0.975]</th>  \n",
       "</tr>\n",
       "<tr>\n",
       "  <th>const</th> <td>   -0.0788</td> <td>    0.119</td> <td>   -0.662</td> <td> 0.508</td> <td>   -0.312</td> <td>    0.155</td>\n",
       "</tr>\n",
       "<tr>\n",
       "  <th>x1</th>    <td>   -0.1739</td> <td>    0.063</td> <td>   -2.742</td> <td> 0.006</td> <td>   -0.298</td> <td>   -0.050</td>\n",
       "</tr>\n",
       "</table>"
      ],
      "text/plain": [
       "<class 'statsmodels.iolib.summary.Summary'>\n",
       "\"\"\"\n",
       "                 Generalized Linear Model Regression Results                  \n",
       "==============================================================================\n",
       "Dep. Variable:                      y   No. Observations:                  305\n",
       "Model:                            GLM   Df Residuals:                      303\n",
       "Model Family:                Binomial   Df Model:                            1\n",
       "Link Function:                  Logit   Scale:                          1.0000\n",
       "Method:                          IRLS   Log-Likelihood:                -207.52\n",
       "Date:                Fri, 10 Dec 2021   Deviance:                       415.04\n",
       "Time:                        09:19:17   Pearson chi2:                     305.\n",
       "No. Iterations:                     4   Pseudo R-squ. (CS):            0.02518\n",
       "Covariance Type:            nonrobust                                         \n",
       "==============================================================================\n",
       "                 coef    std err          z      P>|z|      [0.025      0.975]\n",
       "------------------------------------------------------------------------------\n",
       "const         -0.0788      0.119     -0.662      0.508      -0.312       0.155\n",
       "x1            -0.1739      0.063     -2.742      0.006      -0.298      -0.050\n",
       "==============================================================================\n",
       "\"\"\""
      ]
     },
     "execution_count": 45,
     "metadata": {},
     "output_type": "execute_result"
    }
   ],
   "source": [
    "import statsmodels.api as sm\n",
    "\n",
    "model = sm.GLM(y, sm.add_constant(X), family=sm.families.Binomial())\n",
    "results = model.fit()\n",
    "results.summary()"
   ]
  },
  {
   "cell_type": "code",
   "execution_count": 47,
   "id": "0edc7f08",
   "metadata": {},
   "outputs": [
    {
     "name": "stdout",
     "output_type": "stream",
     "text": [
      "Optimization terminated successfully.\n",
      "         Current function value: 0.681112\n",
      "         Iterations 4\n"
     ]
    },
    {
     "data": {
      "text/html": [
       "<table class=\"simpletable\">\n",
       "<caption>Logit Regression Results</caption>\n",
       "<tr>\n",
       "  <th>Dep. Variable:</th>           <td>y</td>        <th>  No. Observations:  </th>  <td>   305</td> \n",
       "</tr>\n",
       "<tr>\n",
       "  <th>Model:</th>                 <td>Logit</td>      <th>  Df Residuals:      </th>  <td>   304</td> \n",
       "</tr>\n",
       "<tr>\n",
       "  <th>Method:</th>                 <td>MLE</td>       <th>  Df Model:          </th>  <td>     0</td> \n",
       "</tr>\n",
       "<tr>\n",
       "  <th>Date:</th>            <td>Fri, 10 Dec 2021</td> <th>  Pseudo R-squ.:     </th>  <td>0.01736</td>\n",
       "</tr>\n",
       "<tr>\n",
       "  <th>Time:</th>                <td>09:19:18</td>     <th>  Log-Likelihood:    </th> <td> -207.74</td>\n",
       "</tr>\n",
       "<tr>\n",
       "  <th>converged:</th>             <td>True</td>       <th>  LL-Null:           </th> <td> -211.41</td>\n",
       "</tr>\n",
       "<tr>\n",
       "  <th>Covariance Type:</th>     <td>nonrobust</td>    <th>  LLR p-value:       </th>  <td>   nan</td> \n",
       "</tr>\n",
       "</table>\n",
       "<table class=\"simpletable\">\n",
       "<tr>\n",
       "   <td></td>     <th>coef</th>     <th>std err</th>      <th>z</th>      <th>P>|z|</th>  <th>[0.025</th>    <th>0.975]</th>  \n",
       "</tr>\n",
       "<tr>\n",
       "  <th>x1</th> <td>   -0.1647</td> <td>    0.062</td> <td>   -2.668</td> <td> 0.008</td> <td>   -0.286</td> <td>   -0.044</td>\n",
       "</tr>\n",
       "</table>"
      ],
      "text/plain": [
       "<class 'statsmodels.iolib.summary.Summary'>\n",
       "\"\"\"\n",
       "                           Logit Regression Results                           \n",
       "==============================================================================\n",
       "Dep. Variable:                      y   No. Observations:                  305\n",
       "Model:                          Logit   Df Residuals:                      304\n",
       "Method:                           MLE   Df Model:                            0\n",
       "Date:                Fri, 10 Dec 2021   Pseudo R-squ.:                 0.01736\n",
       "Time:                        09:19:18   Log-Likelihood:                -207.74\n",
       "converged:                       True   LL-Null:                       -211.41\n",
       "Covariance Type:            nonrobust   LLR p-value:                       nan\n",
       "==============================================================================\n",
       "                 coef    std err          z      P>|z|      [0.025      0.975]\n",
       "------------------------------------------------------------------------------\n",
       "x1            -0.1647      0.062     -2.668      0.008      -0.286      -0.044\n",
       "==============================================================================\n",
       "\"\"\""
      ]
     },
     "execution_count": 47,
     "metadata": {},
     "output_type": "execute_result"
    }
   ],
   "source": [
    "logit_model = sm.Logit(y, X)\n",
    "result = logit_model.fit()\n",
    "result.summary()"
   ]
  },
  {
   "cell_type": "markdown",
   "id": "72d641b7",
   "metadata": {},
   "source": [
    "# Appendix"
   ]
  },
  {
   "cell_type": "code",
   "execution_count": null,
   "id": "f5ff4f78",
   "metadata": {},
   "outputs": [],
   "source": [
    "saw_ss_comb = pd.DataFrame(data[['Saw (2004)'] + data.iloc[:,400:420].columns.tolist()].dropna(axis=0)).reset_index().drop('index', axis=1) # Creates a concatenated dataframe with Saw (2001) and the Sensation Seeking values\n",
    "\n",
    "print(saw_ss_comb)\n",
    "\n",
    "saw_ss_arr = np.array(saw_ss_comb['Saw (2004)'])\n",
    "data_ss_drop = saw_ss_comb.drop(columns=['Saw (2004)'])\n",
    "\n",
    "print(data_ss_drop)\n",
    "\n",
    "median = float(np.median(saw_ss_arr))\n",
    "saw_ss_arr[np.where(saw_ss_arr<2.5)] = 0\n",
    "saw_ss_arr[np.where(saw_ss_arr>2.5)] = 1\n",
    "saw_ss_pred = pd.DataFrame(saw_ss_arr, columns=['Saw (2004)'])\n",
    "\n",
    "print(saw_ss_pred)\n",
    "\n",
    "remove = np.where(saw_ss_arr==median)[0]\n",
    "\n",
    "remove"
   ]
  },
  {
   "cell_type": "code",
   "execution_count": null,
   "id": "6bbe6212",
   "metadata": {},
   "outputs": [],
   "source": [
    "saw_ss_final = pd.concat([saw_ss_pred, data_ss_drop], axis=1)\n",
    "\n",
    "print(saw_ss_final.describe())\n",
    "\n",
    "out_index = saw_ss_final[(saw_ss_final['Saw (2004)']==2.5)].index\n",
    "\n",
    "saw_ss_final.drop(out_index, inplace=True)\n",
    "\n",
    "print(saw_ss_final.describe())\n",
    "\n",
    "saw_ss_final.reset_index().drop('index', axis=1)\n",
    "\n",
    "print(saw_ss_final.index)\n",
    "\n",
    "predictors = saw_ss_final[['Saw (2004)']]\n",
    "\n",
    "saw_sensation_seeking = saw_ss_final.drop('Saw (2004)', axis=1)\n",
    "saw_sensation_seeking_labels = saw_sensation_seeking.columns\n",
    "\n",
    "saw_sensation_seeking"
   ]
  }
 ],
 "metadata": {
  "kernelspec": {
   "display_name": "Python 3 (ipykernel)",
   "language": "python",
   "name": "python3"
  },
  "language_info": {
   "codemirror_mode": {
    "name": "ipython",
    "version": 3
   },
   "file_extension": ".py",
   "mimetype": "text/x-python",
   "name": "python",
   "nbconvert_exporter": "python",
   "pygments_lexer": "ipython3",
   "version": "3.9.12"
  }
 },
 "nbformat": 4,
 "nbformat_minor": 5
}
